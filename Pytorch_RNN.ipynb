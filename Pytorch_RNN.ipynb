{
 "cells": [
  {
   "cell_type": "code",
   "execution_count": 1,
   "metadata": {},
   "outputs": [],
   "source": [
    "import torch\n",
    "import torch.nn as nn\n",
    "import torch.optim as optim\n",
    "import torch.nn. functional as F\n",
    "from torch.utils.data import DataLoader\n",
    "import torchvision.datasets as datasets\n",
    "import torchvision.transforms as transforms"
   ]
  },
  {
   "cell_type": "code",
   "execution_count": 3,
   "metadata": {},
   "outputs": [],
   "source": [
    "device = torch.device(\"mps\" if torch.backends.mps.is_available() else \"cuda\" if torch.cuda.is_available() else \"cpu\")"
   ]
  },
  {
   "cell_type": "code",
   "execution_count": 2,
   "metadata": {},
   "outputs": [],
   "source": [
    "# Nx1x28x28, we think it as 28 sequence of datapoint that has 28 features\n",
    "\n",
    "#hyperparameters\n",
    "input_size = 28\n",
    "sequence_length = 28\n",
    "num_layers = 2\n",
    "hidden_size = 256\n",
    "num_classes = 10\n",
    "learning_rate = 0.001\n",
    "batch_size = 64\n",
    "num_epochs = 2"
   ]
  },
  {
   "cell_type": "code",
   "execution_count": 37,
   "metadata": {},
   "outputs": [],
   "source": [
    "class RNN(nn.Module):\n",
    "    def __init__(self, input_size, hidden_size, num_layers, num_classes):\n",
    "        super().__init__()\n",
    "        self.hidden_size = hidden_size\n",
    "        self.num_layers = num_layers\n",
    "        self.rnn= nn.RNN(input_size, hidden_size, num_layers, batch_first= True) #batch first means that the first dimension is batch size i.e N x time_seq x features\n",
    "        self.fc= nn.Linear(hidden_size* sequence_length, num_classes)\n",
    "    \n",
    "    #we have 28 time sequence, so we concatenate all the hidden states of all the time sequence and then pass it to the fully connected layer, so it use\n",
    "    # information from every hidden state, can take only last hidden state\n",
    "    def forward(self, x):\n",
    "        h0= torch.zeros(self.num_layers, x.size(0), self.hidden_size).to(device)\n",
    "        # h0 is hidden state at time 0, and it is of size num_layers x batch_size x hidden_size, and it stores the hidden state of the first time sequence and then updates it\n",
    "        out, _= self.rnn(x, h0) #we dont want the hidden state, so we use _, as every time sequence has its own hidden state\n",
    "        out= out.reshape(out.shape[0], -1) #flatten the output\n",
    "        out= self.fc(out)\n",
    "        return out\n",
    "    \n",
    "#change to gru for better results\n",
    "class RNN(nn.Module):\n",
    "    def __init__(self, input_size, hidden_size, num_layers, num_classes):\n",
    "        super().__init__()\n",
    "        self.hidden_size = hidden_size\n",
    "        self.num_layers = num_layers\n",
    "        self.gru= nn.GRU(input_size, hidden_size, num_layers, batch_first= True)\n",
    "        self.fc= nn.Linear(hidden_size* sequence_length, num_classes)\n",
    "    def forward(self, x):\n",
    "        h0= torch.zeros(self.num_layers, x.size(0), self.hidden_size).to(device)\n",
    "        out, _= self.gru(x, h0)\n",
    "        out= out.reshape(out.shape[0], -1)\n",
    "        out= self.fc(out)\n",
    "        return out\n",
    "    \n",
    "#now change to lstm\n",
    "class RNN(nn.Module):\n",
    "    def __init__(self, input_size, hidden_size, num_layers, num_classes):\n",
    "        super().__init__()\n",
    "        self.hidden_size = hidden_size\n",
    "        self.num_layers = num_layers\n",
    "        self.lstm= nn.LSTM(input_size, hidden_size, num_layers, batch_first= True)\n",
    "        self.fc= nn.Linear(hidden_size* sequence_length, num_classes)\n",
    "\n",
    "    def forward(self, x):\n",
    "        h0= torch.zeros(self.num_layers, x.size(0), self.hidden_size).to(device)\n",
    "        #here need to define a seperate cell state, its same as hidden state, but it is passed to the next time sequence\n",
    "        c0= torch.zeros(self.num_layers, x.size(0), self.hidden_size).to(device)\n",
    "        \n",
    "        out, _= self.lstm(x, (h0, c0))\n",
    "        out= out.reshape(out.shape[0], -1)\n",
    "        out= self.fc(out)\n",
    "        return out\n",
    "    \n",
    "#instead of using informaiton from all hidden states, we can use only the last hidden state\n",
    "class RNN(nn.Module):\n",
    "    def __init__(self, input_size, hidden_size, num_layers, num_classes):\n",
    "        super().__init__()\n",
    "        self.hidden_size = hidden_size\n",
    "        self.num_layers = num_layers\n",
    "        self.lstm= nn.LSTM(input_size, hidden_size, num_layers, batch_first= True)\n",
    "        self.fc= nn.Linear(hidden_size, num_classes)\n",
    "\n",
    "    def forward(self, x):\n",
    "        h0= torch.zeros(self.num_layers, x.size(0), self.hidden_size).to(device)\n",
    "        #here need to define a seperate cell state, its same as hidden state, but it is passed to the next time sequence\n",
    "        c0= torch.zeros(self.num_layers, x.size(0), self.hidden_size).to(device)\n",
    "        \n",
    "        out, _= self.lstm(x, (h0, c0))\n",
    "        out= self.fc(out[:, -1, :]) #take only the last hidden state, take all training examples, take all features\n",
    "        #in this we are lossing information from all the hidden states, but it is faster\n",
    "        return out\n",
    "\n",
    "\n",
    "\n",
    "\n",
    "#we can use nn.RNN(input_size, hidden_size, num_layers, batch_first= True, bidirectional= True)\n",
    "#this will give us 2 hidden states, one from left to right and one from right to left, so we can concatenate them and pass it to the fully connected layer\n",
    "#this will give us more information, but it will be slower\n",
    "#we can also use nn.LSTM, nn.GRU with bidirectional=True\n",
    "class RNN(nn.Module):\n",
    "    def __init__(self, input_size, hidden_size, num_layers, num_classes):\n",
    "        super().__init__()\n",
    "        self.hidden_size = hidden_size\n",
    "        self.num_layers = num_layers\n",
    "        self.lstm= nn.LSTM(input_size, hidden_size, num_layers, batch_first= True,\n",
    "                           bidirectional= True)\n",
    "        self.fc= nn.Linear(hidden_size* 2, num_classes)\n",
    "\n",
    "    def forward(self, x):\n",
    "        h0= torch.zeros(self.num_layers* 2, x.size(0), self.hidden_size).to(device) #as two layers for every hidden state, one for forward other backwrd\n",
    "        c0= torch.zeros(self.num_layers* 2, x.size(0), self.hidden_size).to(device)\n",
    "        \n",
    "        out, _= self.lstm(x, (h0, c0)) #in _ we got (hidden_state, cell_state)\n",
    "        out= self.fc(out[:, -1, :])\n",
    "        return out"
   ]
  },
  {
   "cell_type": "code",
   "execution_count": 38,
   "metadata": {},
   "outputs": [],
   "source": [
    "train_dataset = datasets.MNIST(root='data/', train=True, transform=transforms.ToTensor (), download=False)\n",
    "train_loader = DataLoader(dataset=train_dataset, batch_size=batch_size, shuffle=True)\n",
    "\n",
    "\n",
    "test_dataset = datasets.MNIST(root='data/', train=False, transform=transforms.ToTensor (), download=False)\n",
    "test_loader = DataLoader(dataset=test_dataset, batch_size=batch_size, shuffle=False)"
   ]
  },
  {
   "cell_type": "code",
   "execution_count": 39,
   "metadata": {},
   "outputs": [],
   "source": [
    "model = RNN(input_size, hidden_size, num_layers, num_classes).to(device)"
   ]
  },
  {
   "cell_type": "code",
   "execution_count": 40,
   "metadata": {},
   "outputs": [
    {
     "name": "stdout",
     "output_type": "stream",
     "text": [
      "RNN(\n",
      "  (lstm): LSTM(28, 256, num_layers=2, batch_first=True, bidirectional=True)\n",
      "  (fc): Linear(in_features=512, out_features=10, bias=True)\n",
      ")\n"
     ]
    }
   ],
   "source": [
    "print(model)"
   ]
  },
  {
   "cell_type": "code",
   "execution_count": 41,
   "metadata": {},
   "outputs": [],
   "source": [
    "# Loss and optimizer\n",
    "criterion = nn.CrossEntropyLoss ()\n",
    "optimizer = optim.Adam(model.parameters (), lr=learning_rate)"
   ]
  },
  {
   "cell_type": "code",
   "execution_count": 42,
   "metadata": {},
   "outputs": [
    {
     "name": "stdout",
     "output_type": "stream",
     "text": [
      "epoch 1/2\n",
      "epoch 2/2\n"
     ]
    }
   ],
   "source": [
    "for epoch in range(num_epochs):\n",
    "  print(f\"epoch {epoch+1}/{num_epochs}\")\n",
    "  for batch_idx, (data, targets) in enumerate(train_loader):\n",
    "    data = data.to(device=device).squeeze(1) #because rnn need 28x28 and not 1x28x28\n",
    "    targets = targets.to(device=device)\n",
    "    scores = model(data)\n",
    "    loss = criterion(scores, targets)\n",
    "    optimizer.zero_grad()\n",
    "    loss.backward()\n",
    "    optimizer .step()"
   ]
  },
  {
   "cell_type": "code",
   "execution_count": 43,
   "metadata": {},
   "outputs": [],
   "source": [
    "# Check accuracy on training & test to see how good our model\n",
    "def check_accuracy(loader, model) :\n",
    "  if loader.dataset.train:\n",
    "    print ('Checking accuracy on training data')\n",
    "  else:\n",
    "    print ('Checking accuracy on test data')\n",
    "  num_correct = 0\n",
    "  num_samples = 0\n",
    "  model.eval()\n",
    "  with torch.no_grad():\n",
    "    for x, y in loader:\n",
    "      x = x. to(device=device).squeeze(1)\n",
    "      y = y.to(device=device)\n",
    "      scores = model(x)\n",
    "      _, predictions = scores.max(1)\n",
    "      num_correct += (predictions == y) .sum()\n",
    "      num_samples += predictions.size (0)\n",
    "\n",
    "    print (f'Got {num_correct} / {num_samples} with accuracy {float (num_correct)/float (num_samples) *100: .2f} ')\n",
    "  model. train()"
   ]
  },
  {
   "cell_type": "code",
   "execution_count": 44,
   "metadata": {},
   "outputs": [
    {
     "name": "stdout",
     "output_type": "stream",
     "text": [
      "Checking accuracy on training data\n",
      "Got 58981 / 60000 with accuracy  98.30 \n",
      "Checking accuracy on test data\n",
      "Got 9822 / 10000 with accuracy  98.22 \n"
     ]
    }
   ],
   "source": [
    "check_accuracy (train_loader, model)\n",
    "check_accuracy (test_loader, model)"
   ]
  },
  {
   "cell_type": "code",
   "execution_count": null,
   "metadata": {},
   "outputs": [],
   "source": []
  }
 ],
 "metadata": {
  "kernelspec": {
   "display_name": "pytorch",
   "language": "python",
   "name": "python3"
  },
  "language_info": {
   "codemirror_mode": {
    "name": "ipython",
    "version": 3
   },
   "file_extension": ".py",
   "mimetype": "text/x-python",
   "name": "python",
   "nbconvert_exporter": "python",
   "pygments_lexer": "ipython3",
   "version": "3.10.15"
  }
 },
 "nbformat": 4,
 "nbformat_minor": 2
}
