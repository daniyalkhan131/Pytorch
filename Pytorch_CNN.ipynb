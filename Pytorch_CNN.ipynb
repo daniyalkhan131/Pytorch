{
 "cells": [
  {
   "cell_type": "code",
   "execution_count": 1,
   "metadata": {},
   "outputs": [],
   "source": [
    "import torch\n",
    "import torch.nn as nn #all NN modules are in this, loss functns also\n",
    "import torch.optim as optim #all optimaizatn algos like adam sgd in this\n",
    "import torch.nn. functional as F #it have activatn fucntions like relu n all, nn also have them\n",
    "from torch.utils.data import DataLoader #easier dataset management\n",
    "import torchvision.datasets as datasets #for getting data from torch\n",
    "import torchvision.transforms as transforms #transformatns that we can perform on our dataset"
   ]
  },
  {
   "cell_type": "code",
   "execution_count": 2,
   "metadata": {},
   "outputs": [],
   "source": [
    "class CNN(nn.Module):\n",
    "    def __init__(self, in_channels = 1, num_classes = 10):\n",
    "        super().__init__()\n",
    "        self.conv1= nn.Conv2d(in_channels= in_channels, out_channels= 8, kernel_size= (3, 3), stride= (1, 1), padding= (1, 1))\n",
    "        self.pool= nn.MaxPool2d(kernel_size= (2, 2), stride= (2, 2))\n",
    "        self.conv2= nn.Conv2d(in_channels= 8, out_channels= 16, kernel_size= (3, 3), stride= (1, 1), padding= (1, 1))\n",
    "        self.fc1= nn.Linear(16*7*7, num_classes)\n",
    "\n",
    "    def forward(self, x):\n",
    "        x= F.relu(self.conv1(x))\n",
    "        x= self.pool(x)\n",
    "        x= F.relu(self.conv2(x))\n",
    "        x= self.pool(x)\n",
    "        x= x.reshape(x.shape[0], -1)\n",
    "        x= self.fc1(x)\n",
    "        return x"
   ]
  },
  {
   "cell_type": "code",
   "execution_count": 3,
   "metadata": {},
   "outputs": [
    {
     "data": {
      "text/plain": [
       "torch.Size([64, 10])"
      ]
     },
     "execution_count": 3,
     "metadata": {},
     "output_type": "execute_result"
    }
   ],
   "source": [
    "model= CNN()\n",
    "x= torch.randn(64, 1, 28, 28)\n",
    "model(x).shape"
   ]
  },
  {
   "cell_type": "code",
   "execution_count": 4,
   "metadata": {},
   "outputs": [],
   "source": [
    "device = torch.device(\"mps\" if torch.backends.mps.is_available() else \"cuda\" if torch.cuda.is_available() else \"cpu\")"
   ]
  },
  {
   "cell_type": "code",
   "execution_count": 12,
   "metadata": {},
   "outputs": [],
   "source": [
    "# Hyperparameters\n",
    "in_channels = 1\n",
    "num_classes = 10\n",
    "learning_rate = 0.01\n",
    "batch_size = 128\n",
    "num_epochs = 5"
   ]
  },
  {
   "cell_type": "code",
   "execution_count": 6,
   "metadata": {},
   "outputs": [],
   "source": [
    "# Load Data\n",
    "train_dataset = datasets.MNIST(root='data/', train=True, transform=transforms.ToTensor (), download=False)\n",
    "#data come in dataset/ and it is in numpy so transorfm change to tensor and if not in root then download\n",
    "train_loader = DataLoader(dataset=train_dataset, batch_size=batch_size, shuffle=True)\n",
    "\n",
    "\n",
    "test_dataset = datasets.MNIST(root='data/', train=False, transform=transforms.ToTensor (), download=False)\n",
    "test_loader = DataLoader(dataset=test_dataset, batch_size=batch_size, shuffle=False)"
   ]
  },
  {
   "cell_type": "code",
   "execution_count": null,
   "metadata": {},
   "outputs": [],
   "source": [
    "model = CNN(in_channels= in_channels, num_classes=num_classes).to(device)"
   ]
  },
  {
   "cell_type": "code",
   "execution_count": 9,
   "metadata": {},
   "outputs": [
    {
     "name": "stdout",
     "output_type": "stream",
     "text": [
      "CNN(\n",
      "  (conv1): Conv2d(1, 8, kernel_size=(3, 3), stride=(1, 1), padding=(1, 1))\n",
      "  (pool): MaxPool2d(kernel_size=(2, 2), stride=(2, 2), padding=0, dilation=1, ceil_mode=False)\n",
      "  (conv2): Conv2d(8, 16, kernel_size=(3, 3), stride=(1, 1), padding=(1, 1))\n",
      "  (fc1): Linear(in_features=784, out_features=10, bias=True)\n",
      ")\n"
     ]
    }
   ],
   "source": [
    "print(model)"
   ]
  },
  {
   "cell_type": "code",
   "execution_count": 10,
   "metadata": {},
   "outputs": [],
   "source": [
    "# Loss and optimizer\n",
    "criterion = nn.CrossEntropyLoss ()\n",
    "optimizer = optim.Adam(model.parameters (), lr=learning_rate)"
   ]
  },
  {
   "cell_type": "code",
   "execution_count": null,
   "metadata": {},
   "outputs": [
    {
     "name": "stdout",
     "output_type": "stream",
     "text": [
      "epoch 1/5\n",
      "epoch 2/5\n",
      "epoch 3/5\n",
      "epoch 4/5\n",
      "epoch 5/5\n"
     ]
    }
   ],
   "source": [
    "for epoch in range(num_epochs):\n",
    "  print(f\"epoch {epoch+1}/{num_epochs}\")\n",
    "  for batch_idx, (data, targets) in enumerate(train_loader):\n",
    "    data = data.to(device=device)\n",
    "    targets = targets.to(device=device)\n",
    "    scores = model(data)\n",
    "    loss = criterion(scores, targets)\n",
    "    optimizer.zero_grad()\n",
    "    loss.backward()\n",
    "    optimizer .step()"
   ]
  },
  {
   "cell_type": "code",
   "execution_count": null,
   "metadata": {},
   "outputs": [],
   "source": [
    "# Check accuracy on training & test to see how good our model\n",
    "def check_accuracy(loader, model) :\n",
    "  if loader.dataset.train:\n",
    "    print ('Checking accuracy on training data')\n",
    "  else:\n",
    "    print ('Checking accuracy on test data')\n",
    "  num_correct = 0\n",
    "  num_samples = 0\n",
    "  model.eval()\n",
    "  with torch.no_grad():\n",
    "    for x, y in loader:\n",
    "      x = x. to(device=device)\n",
    "      y = y.to(device=device)\n",
    "      scores = model(x)\n",
    "      _, predictions = scores.max(1)\n",
    "      num_correct += (predictions == y) .sum()\n",
    "      num_samples += predictions.size (0)\n",
    "\n",
    "    print (f'Got {num_correct} / {num_samples} with accuracy {float (num_correct)/float (num_samples) *100: .2f} ')\n",
    "  model. train()"
   ]
  },
  {
   "cell_type": "code",
   "execution_count": 16,
   "metadata": {},
   "outputs": [
    {
     "name": "stdout",
     "output_type": "stream",
     "text": [
      "Checking accuracy on training data\n",
      "Got 59377 / 60000 with accuracy  98.96 \n",
      "Checking accuracy on test data\n",
      "Got 9879 / 10000 with accuracy  98.79 \n"
     ]
    }
   ],
   "source": [
    "check_accuracy (train_loader, model)\n",
    "check_accuracy (test_loader, model)"
   ]
  },
  {
   "cell_type": "code",
   "execution_count": null,
   "metadata": {},
   "outputs": [],
   "source": []
  }
 ],
 "metadata": {
  "kernelspec": {
   "display_name": "pytorch",
   "language": "python",
   "name": "python3"
  },
  "language_info": {
   "codemirror_mode": {
    "name": "ipython",
    "version": 3
   },
   "file_extension": ".py",
   "mimetype": "text/x-python",
   "name": "python",
   "nbconvert_exporter": "python",
   "pygments_lexer": "ipython3",
   "version": "3.10.15"
  }
 },
 "nbformat": 4,
 "nbformat_minor": 2
}
