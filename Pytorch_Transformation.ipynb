{
  "nbformat": 4,
  "nbformat_minor": 0,
  "metadata": {
    "colab": {
      "provenance": []
    },
    "kernelspec": {
      "name": "python3",
      "display_name": "Python 3"
    },
    "language_info": {
      "name": "python"
    }
  },
  "cells": [
    {
      "cell_type": "code",
      "source": [
        "#IMAGES"
      ],
      "metadata": {
        "id": "9TgREGfhUwYN"
      },
      "execution_count": null,
      "outputs": []
    },
    {
      "cell_type": "code",
      "execution_count": null,
      "metadata": {
        "id": "vFwibhr1FRTc"
      },
      "outputs": [],
      "source": [
        "# Imports\n",
        "import torch\n",
        "import torch.nn as nn # All neural network modules, nn.Linear, nn.Conv2d, BatchNorm, Loss functions\n",
        "import torch.optim as optim # For all Optimization algorithms, SGD, Adam, etc.\n",
        "import torchvision.transforms as transforms # Transformations we can perform on our dataset\n",
        "import torchvision\n",
        "from torch.utils.data import DataLoader\n",
        "import torchvision.datasets as datasets\n",
        "from torchvision.utils import save_image"
      ]
    },
    {
      "cell_type": "code",
      "source": [
        "# Set device\n",
        "device = torch.device('cuda' if torch. cuda.is_available () else 'cpu')"
      ],
      "metadata": {
        "id": "94iRaHNjFfFF"
      },
      "execution_count": null,
      "outputs": []
    },
    {
      "cell_type": "code",
      "source": [
        "#transformations\n",
        "\n",
        "my_transforms = transforms. Compose(\n",
        "    [#transforms. ToPILImage(),\n",
        "     transforms. Resize ( (20,20)),\n",
        "     transforms. RandomCrop ( (18, 18)) ,\n",
        "     transforms.ColorJitter(brightness=0.5),\n",
        "     transforms. RandomRotation (degrees=45),\n",
        "     transforms .RandomHorizontalFlip(p=0.5),\n",
        "     transforms. RandomVerticalFlip(p=0.05),\n",
        "     transforms. RandomGrayscale(p=0.2),\n",
        "     transforms. ToTensor(),\n",
        "  #transforms.Normalize (mean= [0.0, 0.0], std=[1.0, 1.0]) # Note: This wouldn't do anything, replace by calc.\n",
        "     ]\n",
        "    )"
      ],
      "metadata": {
        "id": "9TGJ-HzPGtPs"
      },
      "execution_count": null,
      "outputs": []
    },
    {
      "cell_type": "code",
      "source": [
        "# Load Data\n",
        "train_dataset = datasets.MNIST(root='dataset/', train=True, transform=my_transforms, download=True)\n",
        "\n",
        "test_dataset = datasets.MNIST(root='dataset/', train=False, transform=my_transforms, download=True)"
      ],
      "metadata": {
        "collapsed": true,
        "id": "WKtN1FYLFg3C"
      },
      "execution_count": null,
      "outputs": []
    },
    {
      "cell_type": "code",
      "source": [
        "train_dataset"
      ],
      "metadata": {
        "colab": {
          "base_uri": "https://localhost:8080/"
        },
        "collapsed": true,
        "id": "9YN1kXxOGDHm",
        "outputId": "c6b5b52f-d04d-45d1-9424-b9109367b550"
      },
      "execution_count": null,
      "outputs": [
        {
          "output_type": "execute_result",
          "data": {
            "text/plain": [
              "Dataset MNIST\n",
              "    Number of datapoints: 60000\n",
              "    Root location: dataset/\n",
              "    Split: Train\n",
              "    StandardTransform\n",
              "Transform: Compose(\n",
              "               Resize(size=(20, 20), interpolation=bilinear, max_size=None, antialias=True)\n",
              "               RandomCrop(size=(18, 18), padding=None)\n",
              "               ColorJitter(brightness=(0.5, 1.5), contrast=None, saturation=None, hue=None)\n",
              "               RandomRotation(degrees=[-45.0, 45.0], interpolation=nearest, expand=False, fill=0)\n",
              "               RandomHorizontalFlip(p=0.5)\n",
              "               RandomVerticalFlip(p=0.05)\n",
              "               RandomGrayscale(p=0.2)\n",
              "               ToTensor()\n",
              "           )"
            ]
          },
          "metadata": {},
          "execution_count": 28
        }
      ]
    },
    {
      "cell_type": "code",
      "source": [
        "for im, l in train_dataset:\n",
        "    print(im.shape, l)\n",
        "    break"
      ],
      "metadata": {
        "colab": {
          "base_uri": "https://localhost:8080/"
        },
        "id": "8tsNE7EMF5YB",
        "outputId": "c5e48fdf-bdbc-4580-8b80-45e127189a50"
      },
      "execution_count": null,
      "outputs": [
        {
          "output_type": "stream",
          "name": "stdout",
          "text": [
            "torch.Size([1, 18, 18]) 5\n"
          ]
        }
      ]
    },
    {
      "cell_type": "code",
      "source": [
        "img_num = 0\n",
        "for _ in range (10):\n",
        "  for img, label in train_dataset:\n",
        "    save_image(img, 'img'+str(img_num)+ '.png')\n",
        "    img_num += 1\n",
        "    break"
      ],
      "metadata": {
        "id": "_elYAE8DHEdr"
      },
      "execution_count": null,
      "outputs": []
    },
    {
      "cell_type": "code",
      "source": [
        "train_loader = DataLoader(dataset=train_dataset, batch_size=32, shuffle=True)\n",
        "test_loader = DataLoader(dataset=test_dataset, batch_size=32, shuffle=False)"
      ],
      "metadata": {
        "id": "oMrGjsK5Fyhg"
      },
      "execution_count": null,
      "outputs": []
    },
    {
      "cell_type": "code",
      "source": [
        "len(test_dataset)"
      ],
      "metadata": {
        "colab": {
          "base_uri": "https://localhost:8080/"
        },
        "id": "9z-AejrSaxaF",
        "outputId": "9eefe9f2-1a3c-46bc-a50e-ed3b878a6f31"
      },
      "execution_count": null,
      "outputs": [
        {
          "output_type": "execute_result",
          "data": {
            "text/plain": [
              "10000"
            ]
          },
          "metadata": {},
          "execution_count": 37
        }
      ]
    },
    {
      "cell_type": "code",
      "source": [
        "#TEXT"
      ],
      "metadata": {
        "id": "FQZ4OlONUyu4"
      },
      "execution_count": null,
      "outputs": []
    },
    {
      "cell_type": "code",
      "source": [],
      "metadata": {
        "id": "51p7gUqsUzf8"
      },
      "execution_count": null,
      "outputs": []
    }
  ]
}