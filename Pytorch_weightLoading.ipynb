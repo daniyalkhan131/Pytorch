{
  "nbformat": 4,
  "nbformat_minor": 0,
  "metadata": {
    "colab": {
      "provenance": []
    },
    "kernelspec": {
      "name": "python3",
      "display_name": "Python 3"
    },
    "language_info": {
      "name": "python"
    }
  },
  "cells": [
    {
      "cell_type": "code",
      "execution_count": 1,
      "metadata": {
        "id": "AoEGkbUZ4xct"
      },
      "outputs": [],
      "source": [
        "import torch\n",
        "import torch.nn as nn\n",
        "import collections\n",
        "\n",
        "# Define a simple neural network model\n",
        "class SimpleNN(nn.Module):\n",
        "    def __init__(self):\n",
        "        super(SimpleNN, self).__init__()\n",
        "        self.fc1 = nn.Linear(10, 50)\n",
        "        self.fc2 = nn.Linear(50, 1)\n",
        "\n",
        "    def forward(self, x):\n",
        "        x = torch.relu(self.fc1(x))\n",
        "        x = self.fc2(x)\n",
        "        return x\n",
        "\n",
        "# Create an instance of the model\n",
        "model = SimpleNN()"
      ]
    },
    {
      "cell_type": "code",
      "source": [
        "state_dict = collections.OrderedDict([\n",
        "    ('fc1.weight', torch.randn(50, 10)),\n",
        "    ('fc1.bias', torch.randn(50)),\n",
        "    ('fc2.weight', torch.randn(1, 50)),\n",
        "    ('fc2.bias', torch.randn(1))\n",
        "])"
      ],
      "metadata": {
        "id": "I-fqFgxF4-Jd"
      },
      "execution_count": 2,
      "outputs": []
    },
    {
      "cell_type": "code",
      "source": [
        "model.load_state_dict(state_dict)\n",
        "model.eval()\n",
        "\n",
        "#model name is the class we made for model and directly can load weights that is in ordered collection"
      ],
      "metadata": {
        "colab": {
          "base_uri": "https://localhost:8080/"
        },
        "id": "dQ78su7E5ACF",
        "outputId": "020c1cee-16de-457f-f102-c9578fd7807f"
      },
      "execution_count": 3,
      "outputs": [
        {
          "output_type": "execute_result",
          "data": {
            "text/plain": [
              "SimpleNN(\n",
              "  (fc1): Linear(in_features=10, out_features=50, bias=True)\n",
              "  (fc2): Linear(in_features=50, out_features=1, bias=True)\n",
              ")"
            ]
          },
          "metadata": {},
          "execution_count": 3
        }
      ]
    },
    {
      "cell_type": "code",
      "source": [
        "#for checking if weights updated or not\n",
        "#first do this then initial_state_dict = model.state_dict()\n",
        "for key in initial_state_dict:\n",
        "    if not torch.equal(initial_state_dict[key], model.state_dict()[key]):\n",
        "        print(f'Layer {key} weights have been updated.')\n",
        "    else:\n",
        "        print(f'Layer {key} weights have NOT been updated.')"
      ],
      "metadata": {
        "id": "6ubcAUjd5R8-"
      },
      "execution_count": null,
      "outputs": []
    },
    {
      "cell_type": "code",
      "source": [
        "#we can see model that if grad prop possible or not"
      ],
      "metadata": {
        "id": "rNxaHzN74Neb"
      },
      "execution_count": null,
      "outputs": []
    }
  ]
}