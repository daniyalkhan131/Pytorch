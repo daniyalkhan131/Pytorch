{
  "cells": [
    {
      "cell_type": "code",
      "execution_count": 7,
      "metadata": {
        "id": "KTh1KhwkDJhT"
      },
      "outputs": [],
      "source": [
        "import torch\n",
        "import torch.nn as nn #all NN modules are in this, loss functns also\n",
        "import torch.optim as optim #all optimaizatn algos like adam sgd in this\n",
        "import torch.nn. functional as F #it have activatn fucntions like relu n all, nn also have them\n",
        "from torch.utils.data import DataLoader #easier dataset management\n",
        "import torchvision.datasets as datasets #for getting data from torch\n",
        "import torchvision.transforms as transforms #transformatns that we can perform on our dataset"
      ]
    },
    {
      "cell_type": "code",
      "execution_count": 8,
      "metadata": {
        "id": "D6zR6URoEBgK"
      },
      "outputs": [],
      "source": [
        "# Create Fully Connected Network\n",
        "class NN(nn.Module): #inherit nn module\n",
        "\n",
        "  def __init__(self, input_size, num_classes):\n",
        "    super(NN, self).__init__()\n",
        "    self.fc1 = nn.Linear(input_size, 50)\n",
        "    self.fc2 = nn.Linear(50, num_classes)\n",
        "\n",
        "  def forward (self, x):\n",
        "    x = F.relu(self.fc1(x))\n",
        "    x = self.fc2(x)\n",
        "    return x"
      ]
    },
    {
      "cell_type": "code",
      "execution_count": 9,
      "metadata": {},
      "outputs": [
        {
          "name": "stdout",
          "output_type": "stream",
          "text": [
            "torch.Size([64, 10])\n"
          ]
        }
      ],
      "source": [
        "model= NN(784, 10)\n",
        "x = torch.randn(64, 784)\n",
        "pred= model(x).shape\n",
        "print(pred)"
      ]
    },
    {
      "cell_type": "code",
      "execution_count": 10,
      "metadata": {
        "id": "PXV0eWTMEDTs"
      },
      "outputs": [],
      "source": [
        "# Set device\n",
        "device = torch.device('cuda' if torch.cuda.is_available() else \"cpu\")\n",
        "device = torch.device(\"mps\" if torch.backends.mps.is_available() else \"cuda\" if torch.cuda.is_available() else \"cpu\")"
      ]
    },
    {
      "cell_type": "code",
      "execution_count": 11,
      "metadata": {
        "colab": {
          "base_uri": "https://localhost:8080/"
        },
        "id": "f93gzWrzPKmA",
        "outputId": "0222efb4-32df-4ac3-b8a9-64232bb401c4"
      },
      "outputs": [
        {
          "data": {
            "text/plain": [
              "device(type='mps')"
            ]
          },
          "execution_count": 11,
          "metadata": {},
          "output_type": "execute_result"
        }
      ],
      "source": [
        "device"
      ]
    },
    {
      "cell_type": "code",
      "execution_count": 12,
      "metadata": {
        "id": "s-gtaXzZPQeh"
      },
      "outputs": [],
      "source": [
        "# Hyperparameters\n",
        "input_size = 784\n",
        "num_classes = 10\n",
        "learning_rate = 0.01\n",
        "batch_size = 128\n",
        "num_epochs = 5"
      ]
    },
    {
      "cell_type": "code",
      "execution_count": 13,
      "metadata": {
        "colab": {
          "base_uri": "https://localhost:8080/"
        },
        "collapsed": true,
        "id": "PPE3rzkPQQ9h",
        "outputId": "3891696b-b544-4aea-aa2e-02a59ed22da6"
      },
      "outputs": [],
      "source": [
        "# Load Data\n",
        "train_dataset = datasets.MNIST(root='data/', train=True, transform=transforms.ToTensor (), download=False)\n",
        "#data come in dataset/ and it is in numpy so transorfm change to tensor and if not in root then download\n",
        "train_loader = DataLoader(dataset=train_dataset, batch_size=batch_size, shuffle=True)\n",
        "\n",
        "\n",
        "test_dataset = datasets.MNIST(root='data/', train=False, transform=transforms.ToTensor (), download=False)\n",
        "test_loader = DataLoader(dataset=test_dataset, batch_size=batch_size, shuffle=False)"
      ]
    },
    {
      "cell_type": "code",
      "execution_count": 14,
      "metadata": {
        "colab": {
          "base_uri": "https://localhost:8080/"
        },
        "id": "QgOSZiH_9pLp",
        "outputId": "57f8a16a-fc88-4375-8888-1a5df567bef8"
      },
      "outputs": [
        {
          "name": "stdout",
          "output_type": "stream",
          "text": [
            "torch.Size([128, 1, 28, 28]) tensor([7, 2, 1, 0, 4, 1, 4, 9, 5, 9, 0, 6, 9, 0, 1, 5, 9, 7, 3, 4, 9, 6, 6, 5,\n",
            "        4, 0, 7, 4, 0, 1, 3, 1, 3, 4, 7, 2, 7, 1, 2, 1, 1, 7, 4, 2, 3, 5, 1, 2,\n",
            "        4, 4, 6, 3, 5, 5, 6, 0, 4, 1, 9, 5, 7, 8, 9, 3, 7, 4, 6, 4, 3, 0, 7, 0,\n",
            "        2, 9, 1, 7, 3, 2, 9, 7, 7, 6, 2, 7, 8, 4, 7, 3, 6, 1, 3, 6, 9, 3, 1, 4,\n",
            "        1, 7, 6, 9, 6, 0, 5, 4, 9, 9, 2, 1, 9, 4, 8, 7, 3, 9, 7, 4, 4, 4, 9, 2,\n",
            "        5, 4, 7, 6, 7, 9, 0, 5])\n"
          ]
        }
      ],
      "source": [
        "for im, l in test_loader:\n",
        "  print(im.shape, l)\n",
        "  break"
      ]
    },
    {
      "cell_type": "code",
      "execution_count": 15,
      "metadata": {
        "id": "3PsoLgtxRsTc"
      },
      "outputs": [],
      "source": [
        "# Initialize network\n",
        "model = NN(input_size=input_size, num_classes=num_classes).to(device)"
      ]
    },
    {
      "cell_type": "code",
      "execution_count": 16,
      "metadata": {
        "colab": {
          "base_uri": "https://localhost:8080/"
        },
        "id": "FwlzBKx4mDYc",
        "outputId": "00b47c66-46e8-46d9-ad8d-c21a1e7bd0dd"
      },
      "outputs": [
        {
          "name": "stdout",
          "output_type": "stream",
          "text": [
            "NN(\n",
            "  (fc1): Linear(in_features=784, out_features=50, bias=True)\n",
            "  (fc2): Linear(in_features=50, out_features=10, bias=True)\n",
            ")\n"
          ]
        }
      ],
      "source": [
        "print(model)"
      ]
    },
    {
      "cell_type": "code",
      "execution_count": 17,
      "metadata": {},
      "outputs": [
        {
          "name": "stdout",
          "output_type": "stream",
          "text": [
            "Parameter containing:\n",
            "tensor([[-0.0131,  0.0213,  0.0341,  ..., -0.0048,  0.0181, -0.0201],\n",
            "        [-0.0352,  0.0257,  0.0061,  ..., -0.0240,  0.0151, -0.0109],\n",
            "        [ 0.0354,  0.0108, -0.0114,  ...,  0.0174,  0.0034, -0.0247],\n",
            "        ...,\n",
            "        [ 0.0203, -0.0147, -0.0342,  ...,  0.0356, -0.0264, -0.0169],\n",
            "        [ 0.0171, -0.0080,  0.0175,  ..., -0.0063,  0.0336, -0.0307],\n",
            "        [ 0.0101, -0.0184,  0.0201,  ...,  0.0291,  0.0029,  0.0243]],\n",
            "       device='mps:0', requires_grad=True)\n"
          ]
        }
      ],
      "source": [
        "for i in model.parameters():\n",
        "    print(i)\n",
        "    break"
      ]
    },
    {
      "cell_type": "code",
      "execution_count": 18,
      "metadata": {
        "id": "ZAtp5QgdQ2Nk"
      },
      "outputs": [],
      "source": [
        "# Loss and optimizer\n",
        "criterion = nn.CrossEntropyLoss ()\n",
        "optimizer = optim.Adam(model.parameters (), lr=learning_rate)"
      ]
    },
    {
      "cell_type": "code",
      "execution_count": 19,
      "metadata": {
        "colab": {
          "base_uri": "https://localhost:8080/"
        },
        "id": "WJ82PxbrRty_",
        "outputId": "c67a6126-f154-47b9-d102-3e277897a6e3"
      },
      "outputs": [
        {
          "name": "stdout",
          "output_type": "stream",
          "text": [
            "epoch 1/5\n",
            "epoch 2/5\n",
            "epoch 3/5\n",
            "epoch 4/5\n",
            "epoch 5/5\n"
          ]
        }
      ],
      "source": [
        "# Train Network\n",
        "for epoch in range(num_epochs):\n",
        "  print(f\"epoch {epoch+1}/{num_epochs}\")\n",
        "  for batch_idx, (data, targets) in enumerate(train_loader):\n",
        "    # Get data to cuda if possible\n",
        "    data = data.to(device=device)\n",
        "    targets = targets. to(device=device)\n",
        "    # Get to correct shape\n",
        "    data = data.reshape (data. shape [0], -1)\n",
        "    # forward\n",
        "    scores = model(data)\n",
        "    loss = criterion(scores, targets) #loss functn\n",
        "    # backward\n",
        "    optimizer.zero_grad() #By zeroing out the gradients, we ensure that the gradients from the previous iteration do not accumulate.\n",
        "    loss.backward() #the gradients are calculated recursively starting from the output layer and propagating backward through the network.\n",
        "    # gradient descent or adam step\n",
        "    optimizer .step() #After computing the gradients, this line updates the parameters of the model using an optimization algorithm, such as gradient descent or Adam optimization"
      ]
    },
    {
      "cell_type": "code",
      "execution_count": 26,
      "metadata": {
        "id": "HLirDLVJUFz9"
      },
      "outputs": [],
      "source": [
        "# Check accuracy on training & test to see how good our model\n",
        "def check_accuracy(loader, model) :\n",
        "  if loader.dataset.train:\n",
        "    print ('Checking accuracy on training data')\n",
        "  else:\n",
        "    print ('Checking accuracy on test data')\n",
        "  num_correct = 0\n",
        "  num_samples = 0\n",
        "  model.eval() #evaluation mode so droupouts and batch norm will be in proper way\n",
        "  with torch.no_grad(): #no grad calculated\n",
        "    for x, y in loader:\n",
        "      x = x. to(device=device)\n",
        "      y = y.to(device=device)\n",
        "      x = x. reshape (x. shape [0], -1)\n",
        "      scores = model(x)\n",
        "      _, predictions = scores.max(1)\n",
        "      num_correct += (predictions == y) .sum()\n",
        "      num_samples += predictions.size (0)\n",
        "\n",
        "    print (f'Got {num_correct} / {num_samples} with accuracy {float (num_correct)/float (num_samples) *100: .2f} ')\n",
        "  model. train() #for again making model to train mode"
      ]
    },
    {
      "cell_type": "code",
      "execution_count": 27,
      "metadata": {
        "colab": {
          "base_uri": "https://localhost:8080/"
        },
        "id": "eSpbvJU_XYke",
        "outputId": "2fb1128f-98d0-4a7e-a8d7-fd1da255a526"
      },
      "outputs": [
        {
          "name": "stdout",
          "output_type": "stream",
          "text": [
            "Checking accuracy on training data\n",
            "Got 58478 / 60000 with accuracy  97.46 \n",
            "Checking accuracy on test data\n",
            "Got 9602 / 10000 with accuracy  96.02 \n"
          ]
        }
      ],
      "source": [
        "check_accuracy (train_loader, model)\n",
        "check_accuracy (test_loader, model)"
      ]
    },
    {
      "cell_type": "code",
      "execution_count": null,
      "metadata": {
        "id": "8_MelwXWXbsY"
      },
      "outputs": [],
      "source": []
    }
  ],
  "metadata": {
    "colab": {
      "provenance": []
    },
    "kernelspec": {
      "display_name": "pytorch",
      "language": "python",
      "name": "python3"
    },
    "language_info": {
      "codemirror_mode": {
        "name": "ipython",
        "version": 3
      },
      "file_extension": ".py",
      "mimetype": "text/x-python",
      "name": "python",
      "nbconvert_exporter": "python",
      "pygments_lexer": "ipython3",
      "version": "3.10.15"
    }
  },
  "nbformat": 4,
  "nbformat_minor": 0
}
