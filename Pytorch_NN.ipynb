{
  "nbformat": 4,
  "nbformat_minor": 0,
  "metadata": {
    "colab": {
      "provenance": []
    },
    "kernelspec": {
      "name": "python3",
      "display_name": "Python 3"
    },
    "language_info": {
      "name": "python"
    }
  },
  "cells": [
    {
      "cell_type": "code",
      "execution_count": null,
      "metadata": {
        "id": "KTh1KhwkDJhT"
      },
      "outputs": [],
      "source": [
        "import torch\n",
        "import torch.nn as nn #all NN modules are in this, loss functns also\n",
        "import torch.optim as optim #all optimaizatn algos like adam sgd in this\n",
        "import torch.nn. functional as F #it have activatn fucntions like relu n all, nn also have them\n",
        "from torch.utils.data import DataLoader #easier dataset management\n",
        "import torchvision.datasets as datasets #for getting data from torch\n",
        "import torchvision.transforms as transforms #transformatns that we can perform on our dataset"
      ]
    },
    {
      "cell_type": "code",
      "source": [
        "# Create Fully Connected Network\n",
        "class NN(nn.Module): #inherit nn module\n",
        "\n",
        "  def __init__(self, input_size, num_classes):\n",
        "    super(NN, self).__init__()\n",
        "    self.fc1 = nn. Linear (input_size, 50)\n",
        "    self.fc2 = nn. Linear (50, num_classes)\n",
        "\n",
        "  def forward (self, x):\n",
        "    x = F.relu(self.fc1(x))\n",
        "    x = self.fc2(x)\n",
        "    return x"
      ],
      "metadata": {
        "id": "D6zR6URoEBgK"
      },
      "execution_count": null,
      "outputs": []
    },
    {
      "cell_type": "code",
      "source": [
        "# Set device\n",
        "device = torch.device('cuda' if torch.cuda.is_available() else \"cpu\")"
      ],
      "metadata": {
        "id": "PXV0eWTMEDTs"
      },
      "execution_count": null,
      "outputs": []
    },
    {
      "cell_type": "code",
      "source": [
        "device"
      ],
      "metadata": {
        "colab": {
          "base_uri": "https://localhost:8080/"
        },
        "id": "f93gzWrzPKmA",
        "outputId": "0222efb4-32df-4ac3-b8a9-64232bb401c4"
      },
      "execution_count": null,
      "outputs": [
        {
          "output_type": "execute_result",
          "data": {
            "text/plain": [
              "device(type='cpu')"
            ]
          },
          "metadata": {},
          "execution_count": 4
        }
      ]
    },
    {
      "cell_type": "code",
      "source": [
        "# Hyperparameters\n",
        "input_size = 784\n",
        "num_classes = 10\n",
        "learning_rate = 0.001\n",
        "batch_size = 64\n",
        "num_epochs = 5"
      ],
      "metadata": {
        "id": "s-gtaXzZPQeh"
      },
      "execution_count": null,
      "outputs": []
    },
    {
      "cell_type": "code",
      "source": [
        "# Load Data\n",
        "train_dataset = datasets.MNIST(root='dataset/', train=True, transform=transforms.ToTensor (), download=True)\n",
        "#data come in dataset/ and it is in numpy so transorfm change to tensor and if not in root then download\n",
        "train_loader = DataLoader(dataset=train_dataset, batch_size=batch_size, shuffle=True)\n",
        "\n",
        "\n",
        "test_dataset = datasets.MNIST(root='dataset/', train=False, transform=transforms.ToTensor (), download=True)\n",
        "test_loader = DataLoader(dataset=test_dataset, batch_size=batch_size, shuffle=False)"
      ],
      "metadata": {
        "id": "PPE3rzkPQQ9h",
        "colab": {
          "base_uri": "https://localhost:8080/"
        },
        "collapsed": true,
        "outputId": "3891696b-b544-4aea-aa2e-02a59ed22da6"
      },
      "execution_count": null,
      "outputs": [
        {
          "output_type": "stream",
          "name": "stdout",
          "text": [
            "Downloading http://yann.lecun.com/exdb/mnist/train-images-idx3-ubyte.gz\n",
            "Failed to download (trying next):\n",
            "HTTP Error 403: Forbidden\n",
            "\n",
            "Downloading https://ossci-datasets.s3.amazonaws.com/mnist/train-images-idx3-ubyte.gz\n",
            "Downloading https://ossci-datasets.s3.amazonaws.com/mnist/train-images-idx3-ubyte.gz to dataset/MNIST/raw/train-images-idx3-ubyte.gz\n"
          ]
        },
        {
          "output_type": "stream",
          "name": "stderr",
          "text": [
            "100%|██████████| 9912422/9912422 [00:00<00:00, 46511877.24it/s]\n"
          ]
        },
        {
          "output_type": "stream",
          "name": "stdout",
          "text": [
            "Extracting dataset/MNIST/raw/train-images-idx3-ubyte.gz to dataset/MNIST/raw\n",
            "\n",
            "Downloading http://yann.lecun.com/exdb/mnist/train-labels-idx1-ubyte.gz\n",
            "Failed to download (trying next):\n",
            "HTTP Error 403: Forbidden\n",
            "\n",
            "Downloading https://ossci-datasets.s3.amazonaws.com/mnist/train-labels-idx1-ubyte.gz\n",
            "Downloading https://ossci-datasets.s3.amazonaws.com/mnist/train-labels-idx1-ubyte.gz to dataset/MNIST/raw/train-labels-idx1-ubyte.gz\n"
          ]
        },
        {
          "output_type": "stream",
          "name": "stderr",
          "text": [
            "100%|██████████| 28881/28881 [00:00<00:00, 1571191.13it/s]\n"
          ]
        },
        {
          "output_type": "stream",
          "name": "stdout",
          "text": [
            "Extracting dataset/MNIST/raw/train-labels-idx1-ubyte.gz to dataset/MNIST/raw\n",
            "\n",
            "Downloading http://yann.lecun.com/exdb/mnist/t10k-images-idx3-ubyte.gz\n",
            "Failed to download (trying next):\n",
            "HTTP Error 403: Forbidden\n",
            "\n",
            "Downloading https://ossci-datasets.s3.amazonaws.com/mnist/t10k-images-idx3-ubyte.gz\n",
            "Downloading https://ossci-datasets.s3.amazonaws.com/mnist/t10k-images-idx3-ubyte.gz to dataset/MNIST/raw/t10k-images-idx3-ubyte.gz\n"
          ]
        },
        {
          "output_type": "stream",
          "name": "stderr",
          "text": [
            "100%|██████████| 1648877/1648877 [00:00<00:00, 13768036.78it/s]\n"
          ]
        },
        {
          "output_type": "stream",
          "name": "stdout",
          "text": [
            "Extracting dataset/MNIST/raw/t10k-images-idx3-ubyte.gz to dataset/MNIST/raw\n",
            "\n",
            "Downloading http://yann.lecun.com/exdb/mnist/t10k-labels-idx1-ubyte.gz\n",
            "Failed to download (trying next):\n",
            "HTTP Error 403: Forbidden\n",
            "\n",
            "Downloading https://ossci-datasets.s3.amazonaws.com/mnist/t10k-labels-idx1-ubyte.gz\n",
            "Downloading https://ossci-datasets.s3.amazonaws.com/mnist/t10k-labels-idx1-ubyte.gz to dataset/MNIST/raw/t10k-labels-idx1-ubyte.gz\n"
          ]
        },
        {
          "output_type": "stream",
          "name": "stderr",
          "text": [
            "100%|██████████| 4542/4542 [00:00<00:00, 2537026.07it/s]\n"
          ]
        },
        {
          "output_type": "stream",
          "name": "stdout",
          "text": [
            "Extracting dataset/MNIST/raw/t10k-labels-idx1-ubyte.gz to dataset/MNIST/raw\n",
            "\n"
          ]
        }
      ]
    },
    {
      "cell_type": "code",
      "source": [
        "for im, l in test_loader:\n",
        "  print(im.shape, l)\n",
        "  break"
      ],
      "metadata": {
        "colab": {
          "base_uri": "https://localhost:8080/"
        },
        "id": "QgOSZiH_9pLp",
        "outputId": "57f8a16a-fc88-4375-8888-1a5df567bef8"
      },
      "execution_count": null,
      "outputs": [
        {
          "output_type": "stream",
          "name": "stdout",
          "text": [
            "torch.Size([64, 1, 28, 28]) tensor([7, 2, 1, 0, 4, 1, 4, 9, 5, 9, 0, 6, 9, 0, 1, 5, 9, 7, 3, 4, 9, 6, 6, 5,\n",
            "        4, 0, 7, 4, 0, 1, 3, 1, 3, 4, 7, 2, 7, 1, 2, 1, 1, 7, 4, 2, 3, 5, 1, 2,\n",
            "        4, 4, 6, 3, 5, 5, 6, 0, 4, 1, 9, 5, 7, 8, 9, 3])\n"
          ]
        }
      ]
    },
    {
      "cell_type": "code",
      "source": [
        "# Initialize network\n",
        "model = NN(input_size=input_size, num_classes=num_classes).to(device)"
      ],
      "metadata": {
        "id": "3PsoLgtxRsTc"
      },
      "execution_count": null,
      "outputs": []
    },
    {
      "cell_type": "code",
      "source": [
        "print(model)"
      ],
      "metadata": {
        "colab": {
          "base_uri": "https://localhost:8080/"
        },
        "id": "FwlzBKx4mDYc",
        "outputId": "00b47c66-46e8-46d9-ad8d-c21a1e7bd0dd"
      },
      "execution_count": null,
      "outputs": [
        {
          "output_type": "stream",
          "name": "stdout",
          "text": [
            "NN(\n",
            "  (fc1): Linear(in_features=784, out_features=50, bias=True)\n",
            "  (fc2): Linear(in_features=50, out_features=10, bias=True)\n",
            ")\n"
          ]
        }
      ]
    },
    {
      "cell_type": "code",
      "source": [
        "# Loss and optimizer\n",
        "criterion = nn.CrossEntropyLoss ()\n",
        "optimizer = optim.Adam(model.parameters (), lr=learning_rate)"
      ],
      "metadata": {
        "id": "ZAtp5QgdQ2Nk"
      },
      "execution_count": null,
      "outputs": []
    },
    {
      "cell_type": "code",
      "source": [
        "# Train Network\n",
        "for epoch in range(num_epochs):\n",
        "  print(f\"epoch {epoch+1}/{num_epochs}\")\n",
        "  for batch_idx, (data, targets) in enumerate(train_loader):\n",
        "    # Get data to cuda if possible\n",
        "    data = data.to(device=device)\n",
        "    targets = targets. to(device=device)\n",
        "    # Get to correct shape\n",
        "    data = data.reshape (data. shape [0], -1)\n",
        "    # forward\n",
        "    scores = model(data)\n",
        "    loss = criterion(scores, targets) #loss functn\n",
        "    # backward\n",
        "    optimizer.zero_grad() #By zeroing out the gradients, we ensure that the gradients from the previous iteration do not accumulate.\n",
        "    loss.backward() #the gradients are calculated recursively starting from the output layer and propagating backward through the network.\n",
        "    # gradient descent or adam step\n",
        "    optimizer .step() #After computing the gradients, this line updates the parameters of the model using an optimization algorithm, such as gradient descent or Adam optimization"
      ],
      "metadata": {
        "colab": {
          "base_uri": "https://localhost:8080/"
        },
        "id": "WJ82PxbrRty_",
        "outputId": "c67a6126-f154-47b9-d102-3e277897a6e3"
      },
      "execution_count": null,
      "outputs": [
        {
          "output_type": "stream",
          "name": "stdout",
          "text": [
            "epoch 1/5\n",
            "epoch 2/5\n",
            "epoch 3/5\n",
            "epoch 4/5\n",
            "epoch 5/5\n"
          ]
        }
      ]
    },
    {
      "cell_type": "code",
      "source": [
        "# Check accuracy on training & test to see how good our model\n",
        "def check_accuracy(loader, model) :\n",
        "  if loader.dataset.train:\n",
        "    print ('Checking accuracy on training data')\n",
        "  else:\n",
        "    print ('Checking accuracy on test data')\n",
        "  num_correct = 0\n",
        "  num_samples = 0\n",
        "  model.eval() #evaluation mode so droupouts and batch norm will be in proper way\n",
        "  with torch.no_grad(): #no grad calculated\n",
        "    for x, y in loader:\n",
        "      x = x. to(device=device)\n",
        "      y = y.to(device=device)\n",
        "      x = x. reshape (x. shape [0], -1)\n",
        "      scores = model(x)\n",
        "      _, predictions = scores.max(1)\n",
        "      num_correct += (predictions == y) .sum()\n",
        "      num_samples += predictions.size (0)\n",
        "\n",
        "    print (f'Got {num_correct} / {num_samples} with accuracy {float (num_correct)/float (num_samples) *100: .2f} ')\n",
        "  model. train() #for again making model to train mode"
      ],
      "metadata": {
        "id": "HLirDLVJUFz9"
      },
      "execution_count": null,
      "outputs": []
    },
    {
      "cell_type": "code",
      "source": [
        "check_accuracy (train_loader, model)\n",
        "check_accuracy (test_loader, model)"
      ],
      "metadata": {
        "colab": {
          "base_uri": "https://localhost:8080/"
        },
        "id": "eSpbvJU_XYke",
        "outputId": "2fb1128f-98d0-4a7e-a8d7-fd1da255a526"
      },
      "execution_count": null,
      "outputs": [
        {
          "output_type": "stream",
          "name": "stdout",
          "text": [
            "Checking accuracy on training data\n",
            "Got 55777 / 60000 with accuracy  92.96 \n",
            "Checking accuracy on test data\n",
            "Got 9305 / 10000 with accuracy  93.05 \n"
          ]
        }
      ]
    },
    {
      "cell_type": "code",
      "source": [],
      "metadata": {
        "id": "8_MelwXWXbsY"
      },
      "execution_count": null,
      "outputs": []
    }
  ]
}