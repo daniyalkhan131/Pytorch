{
 "cells": [
  {
   "cell_type": "code",
   "execution_count": 1,
   "metadata": {},
   "outputs": [],
   "source": [
    "#save and load model so can train after sometime"
   ]
  },
  {
   "cell_type": "code",
   "execution_count": 1,
   "metadata": {},
   "outputs": [],
   "source": [
    "import torch\n",
    "import torch.nn as nn #all NN modules are in this, loss functns also\n",
    "import torch.optim as optim #all optimaizatn algos like adam sgd in this\n",
    "import torch.nn. functional as F #it have activatn fucntions like relu n all, nn also have them\n",
    "from torch.utils.data import DataLoader #easier dataset management\n",
    "import torchvision.datasets as datasets #for getting data from torch\n",
    "import torchvision.transforms as transforms #transformatns that we can perform on our dataset"
   ]
  },
  {
   "cell_type": "code",
   "execution_count": 18,
   "metadata": {},
   "outputs": [],
   "source": [
    "class CNN(nn.Module):\n",
    "    def __init__(self, in_channels = 1, num_classes = 10):\n",
    "        super().__init__()\n",
    "        self.conv1= nn.Conv2d(in_channels= in_channels, out_channels= 8, kernel_size= (3, 3), stride= (1, 1), padding= (1, 1))\n",
    "        self.pool= nn.MaxPool2d(kernel_size= (2, 2), stride= (2, 2))\n",
    "        self.conv2= nn.Conv2d(in_channels= 8, out_channels= 16, kernel_size= (3, 3), stride= (1, 1), padding= (1, 1))\n",
    "        self.fc1= nn.Linear(16*7*7, num_classes)\n",
    "\n",
    "    def forward(self, x):\n",
    "        x= F.relu(self.conv1(x))\n",
    "        x= self.pool(x)\n",
    "        x= F.relu(self.conv2(x))\n",
    "        x= self.pool(x)\n",
    "        x= x.reshape(x.shape[0], -1)\n",
    "        x= self.fc1(x)\n",
    "        return x\n",
    "    \n",
    "def save_checkpoint(state, filename= 'my_checkpoint.pth.tar'):\n",
    "    print('saving checkpoint.......')\n",
    "    torch.save(state, filename)\n",
    "\n",
    "def load_checkpoint(checkpoint):\n",
    "    print(\"loading checkpoint........\")\n",
    "    model.load_state_dict(checkpoint['state_dict'])\n",
    "    optimizer.load_state_dict(checkpoint['optimizer'])\n"
   ]
  },
  {
   "cell_type": "code",
   "execution_count": 9,
   "metadata": {},
   "outputs": [],
   "source": [
    "device = torch.device(\"mps\" if torch.backends.mps.is_available() else \"cuda\" if torch.cuda.is_available() else \"cpu\")"
   ]
  },
  {
   "cell_type": "code",
   "execution_count": 19,
   "metadata": {},
   "outputs": [],
   "source": [
    "in_channels = 1\n",
    "num_classes = 10\n",
    "learning_rate = 0.01\n",
    "batch_size = 128\n",
    "num_epochs = 5\n",
    "load_model= True"
   ]
  },
  {
   "cell_type": "code",
   "execution_count": 11,
   "metadata": {},
   "outputs": [],
   "source": [
    "train_dataset = datasets.MNIST(root='data/', train=True, transform=transforms.ToTensor (), download=False)\n",
    "train_loader = DataLoader(dataset=train_dataset, batch_size=batch_size, shuffle=True)\n",
    "\n",
    "\n",
    "test_dataset = datasets.MNIST(root='data/', train=False, transform=transforms.ToTensor (), download=False)\n",
    "test_loader = DataLoader(dataset=test_dataset, batch_size=batch_size, shuffle=False)"
   ]
  },
  {
   "cell_type": "code",
   "execution_count": 12,
   "metadata": {},
   "outputs": [],
   "source": [
    "model = CNN(in_channels= in_channels, num_classes=num_classes).to(device)"
   ]
  },
  {
   "cell_type": "code",
   "execution_count": 13,
   "metadata": {},
   "outputs": [],
   "source": [
    "criterion = nn.CrossEntropyLoss ()\n",
    "optimizer = optim.Adam(model.parameters (), lr=learning_rate)"
   ]
  },
  {
   "cell_type": "code",
   "execution_count": 21,
   "metadata": {},
   "outputs": [
    {
     "name": "stdout",
     "output_type": "stream",
     "text": [
      "loading checkpoint........\n"
     ]
    },
    {
     "name": "stderr",
     "output_type": "stream",
     "text": [
      "/var/folders/c2/n7zjlrp926z3_2df0tcnnf1h0000gn/T/ipykernel_1146/3002626949.py:2: FutureWarning: You are using `torch.load` with `weights_only=False` (the current default value), which uses the default pickle module implicitly. It is possible to construct malicious pickle data which will execute arbitrary code during unpickling (See https://github.com/pytorch/pytorch/blob/main/SECURITY.md#untrusted-models for more details). In a future release, the default value for `weights_only` will be flipped to `True`. This limits the functions that could be executed during unpickling. Arbitrary objects will no longer be allowed to be loaded via this mode unless they are explicitly allowlisted by the user via `torch.serialization.add_safe_globals`. We recommend you start setting `weights_only=True` for any use case where you don't have full control of the loaded file. Please open an issue on GitHub for any issues related to this experimental feature.\n",
      "  load_checkpoint(torch.load('model/checkpoints/cnn_model_epoch_4'))\n"
     ]
    }
   ],
   "source": [
    "if load_model:\n",
    "    load_checkpoint(torch.load('model/checkpoints/cnn_model_epoch_4'))"
   ]
  },
  {
   "cell_type": "code",
   "execution_count": 22,
   "metadata": {},
   "outputs": [
    {
     "name": "stdout",
     "output_type": "stream",
     "text": [
      "epoch 1/5\n",
      "epoch 2/5\n",
      "saving checkpoint.......\n",
      "epoch 3/5\n",
      "epoch 4/5\n",
      "saving checkpoint.......\n",
      "epoch 5/5\n"
     ]
    }
   ],
   "source": [
    "for epoch in range(num_epochs):\n",
    "  print(f\"epoch {epoch+1}/{num_epochs}\")\n",
    "\n",
    "#saving checkpoint\n",
    "  if (epoch+1)% 2== 0:\n",
    "    checkpoint= {'state_dict': model.state_dict(), 'optimizer': optimizer.state_dict()} #can store other info too\n",
    "    save_checkpoint(checkpoint, filename= f'/Users/daniyalkhan/Documents/AI/DL/Pytorch/model/checkpoints/cnn_model_epoch_{epoch+1}')\n",
    "\n",
    "\n",
    "  for batch_idx, (data, targets) in enumerate(train_loader):\n",
    "    data = data.to(device=device)\n",
    "    targets = targets.to(device=device)\n",
    "    scores = model(data)\n",
    "    loss = criterion(scores, targets)\n",
    "    optimizer.zero_grad()\n",
    "    loss.backward()\n",
    "    optimizer .step()"
   ]
  },
  {
   "cell_type": "code",
   "execution_count": null,
   "metadata": {},
   "outputs": [],
   "source": []
  }
 ],
 "metadata": {
  "kernelspec": {
   "display_name": "pytorch",
   "language": "python",
   "name": "python3"
  },
  "language_info": {
   "codemirror_mode": {
    "name": "ipython",
    "version": 3
   },
   "file_extension": ".py",
   "mimetype": "text/x-python",
   "name": "python",
   "nbconvert_exporter": "python",
   "pygments_lexer": "ipython3",
   "version": "3.10.15"
  }
 },
 "nbformat": 4,
 "nbformat_minor": 2
}
